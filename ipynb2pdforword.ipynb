{
 "cells": [
  {
   "cell_type": "raw",
   "id": "add5f2e1-8add-4f86-8ab7-834d58f2ece2",
   "metadata": {},
   "source": [
    "---\n",
    "title: \"ipynb から Word や PDF のファイルを生成する\"\n",
    "format: \n",
    "  pdf:\n",
    "    toc: true\n",
    "    number-sections: true\n",
    "    documentclass: bxjsarticle\n",
    "    classoption:\n",
    "      - pandoc\n",
    "      - ja=standard\n",
    "      - jafont=haranoaji\n",
    "pdf-engine: lualatex\n",
    "jupyter: ruby\n",
    "---"
   ]
  },
  {
   "cell_type": "markdown",
   "id": "dd91ccc2-d562-4c11-b371-2c6bf08b7ec4",
   "metadata": {},
   "source": [
    "# ipynb から Word や PDF のファイルを生成する\n",
    "\n",
    "このページでは iruby notebook の ipynb ファイルから Word や PDF のファイルを (Quarto を用いることで) 生成する方法を説明します。\n",
    "\n",
    "この変換は論文作成やレポート提出などに役立ちます。\n",
    "\n",
    "解説字幕CC を付けた YouTube のビデオもありますので、ぜひ CC を有効にしてご覧ください。\n",
    "\n",
    "{{< video https://www.youtube.com/embed/wMf02-H9BRk >}}\n",
    "\n",
    "\n",
    "{{< video https://www.youtube.com/embed/hDDBjXBCzg0 >}}\n",
    "\n",
    "## YAML Front Matter\n",
    "\n",
    "まず Quarto への入力を想定する ipynb にはその冒頭に、タイプを `Raw` に設定したセルを追加する必要があります(下記画像参照)。\n",
    "\n",
    "![YAML front matter](yaml_front_matter_in_raw_cell.png)\n",
    "\n",
    "ここでは日本語を含む ipynb を PDF として問題無く出力するための設定を「主に」記述しています。  \n",
    "\n",
    "その「主に」以外のオプションとしては `toc: true` と `number-sections: true` をここでは含めています。  \n",
    "`toc: true` は Markdown の header のレベルに応じた目次を自動生成します。  \n",
    "`number-sections: true` は section に自動で数字インデックスを付与します。\n",
    "この他にも様々なオプションがあります。  \n",
    "`pdf:` 用のオプションであれば https://quarto.org/docs/output-formats/pdf-basics.html をご覧ください。"
   ]
  },
  {
   "cell_type": "markdown",
   "id": "2c649e34-c484-48fe-b076-aad34a597c57",
   "metadata": {},
   "source": [
    "## Ruby コードセルとその出力\n",
    "\n",
    "まずは何はなくとも Ruby コードセルの作成とその実行結果を ipynb 中に作ってみましょう。"
   ]
  },
  {
   "cell_type": "code",
   "execution_count": 1,
   "id": "eafab719-ca02-4982-8a8c-636f2ac4dfd9",
   "metadata": {},
   "outputs": [
    {
     "name": "stdout",
     "output_type": "stream",
     "text": [
      "Hello るびー！\n"
     ]
    }
   ],
   "source": [
    "puts \"Hello るびー！\""
   ]
  },
  {
   "cell_type": "markdown",
   "id": "9ecdad3d-034d-4437-9e98-474033d24882",
   "metadata": {},
   "source": [
    "日本語を含む文字列のプリントを行う Ruby コードのセルが問題無く実行され、その出力がノートブック中に埋め込まれています。\n",
    "\n",
    "## ipynb から PDF を出力する\n",
    "\n",
    "それでは上記のようにコードセルとその実行結果を含む ipynb から PDF を出力してみましょう。\n",
    "\n",
    "実は JupyterLab には PDF への export 機能があるのですが、その機能では日本語は出力されない難があります。  \n",
    "また前述の YAML Front Matter 中のオプションのような詳細な設定は行えません。\n",
    "\n",
    "Quarto を用いるとそのような難は無く、ipynb から PDF を出力することが可能です。\n",
    "その手順は下記になります。\n",
    "\n",
    "1. JupyterLab のメニューバー -> File -> New -> Terminal と辿り、Terminal を立ち上げまず。\n",
    "2. 次のコマンドを実行します。 `quarto render ipynb2pdforword.ipynb`\n",
    "3. JupyterLab の左のサイドバーの file browser をリフレッシュします。\n",
    "4. ipynb2pdforword.pdf ができているはずです。それをダブルクリックしてみてください。\n"
   ]
  },
  {
   "cell_type": "markdown",
   "id": "12156aa6-f53f-4062-9825-2b8c465f6ead",
   "metadata": {},
   "source": [
    "## 数式とその式へのクロスリファレンス\n",
    "\n",
    "ここでは、Quarto が「クロスリファレンス(科学技術出版で必須となるもの)の作成を容易にしてくれること」の入門編として\n",
    "数式を使ってみます。\n",
    "\n",
    "数式のレンダリングは Jupyter 中の Markdown セルで標準でサポートされています。  \n",
    "下記を iruby notebook の Markdown セル中に書き実行してみましょう。\n",
    "\n",
    "```\n",
    "## 数式セクション {#sec-equation}\n",
    "\n",
    "$$\n",
    "s = \\sqrt{\\frac{1}{N-1} \\sum_{i=1}^N (x_i - \\overline{x})^2}\n",
    "$$ {#eq-stddev}\n",
    "```\n",
    "\n",
    "上記で行っていることは セクションへのラベリングと数式へのラベリングです。\n",
    "`{#sec-XXX}` がセクションへのラベリングになります。XXXは任意の名前になります。  \n",
    "同様に`{#eq-YYY}` は数式へのラベリングになります。\n",
    "\n",
    "このようにセクションや数式にラベリングを行った上で、`@sec-XXX` のように\n",
    "`@` の後にラベルをつけた文字列を Markdown セルに記述すると、\n",
    "Quarto は ipynb から出力する PDF や Word ファイルにセクションや数式へのクロスリファレンスを自動生成してくれます。\n"
   ]
  },
  {
   "cell_type": "markdown",
   "id": "e5394d1d-347a-4a32-9dc9-398642b09e23",
   "metadata": {},
   "source": [
    "## 数式セクション {#sec-equation}\n",
    "\n",
    "$$\n",
    "s = \\sqrt{\\frac{1}{N-1} \\sum_{i=1}^N (x_i - \\overline{x})^2}\n",
    "$$ {#eq-stddev}"
   ]
  },
  {
   "cell_type": "markdown",
   "id": "e9625cf0-23a7-425e-9d34-62863d8344ba",
   "metadata": {},
   "source": [
    "\n",
    "@sec-equation の @eq-stddev を見てください。\n",
    "\n",
    "上記の文の PDF 出力はどうなっているでしょうか？\n",
    "\n",
    "「第何セクション」の「第何番目の数式」か、が自動的に参照付けされているはずです。\n",
    "\n",
    "これが科学技術出版やレポート等で非常に重要となるクロスリファレンスと呼ばれるものになります。\n",
    "\n",
    "# クロスリファレンスをさらに便利なものとする\n",
    "\n",
    "Quarto でのクロスリファレンスは上記のセクション、数式だけに留まりません。  \n",
    "Quarto は図や表を出力するコードセルに対してもクロスリファレンスを生成することができます。  \n",
    "次はその図表へのクロスリファレンスが iruby notebook でも実現できることを示します。\n"
   ]
  },
  {
   "cell_type": "code",
   "execution_count": null,
   "id": "f8e1f2b5-f530-4889-bd79-617ec2020685",
   "metadata": {},
   "outputs": [],
   "source": []
  }
 ],
 "metadata": {
  "kernelspec": {
   "display_name": "Ruby 3.1.3",
   "language": "ruby",
   "name": "ruby"
  },
  "language_info": {
   "file_extension": ".rb",
   "mimetype": "application/x-ruby",
   "name": "ruby",
   "version": "3.1.3"
  }
 },
 "nbformat": 4,
 "nbformat_minor": 5
}
