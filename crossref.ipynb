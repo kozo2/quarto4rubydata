{
 "cells": [
  {
   "cell_type": "raw",
   "id": "51626a19-dbb2-4763-80d3-8d69d2c79b48",
   "metadata": {},
   "source": [
    "---\n",
    "title: \"Quarto で iruby カーネルを試用します\"\n",
    "crossref:\n",
    "  fig-title: 図     # (default is \"Figure\")\n",
    "  tbl-title: 表     # (default is \"Table\")\n",
    "format: \n",
    "  pdf:\n",
    "    toc: true\n",
    "    number-sections: true\n",
    "    documentclass: bxjsarticle\n",
    "    classoption:\n",
    "      - pandoc\n",
    "      - ja=standard\n",
    "      - jafont=haranoaji\n",
    "pdf-engine: lualatex\n",
    "jupyter: ruby\n",
    "---"
   ]
  },
  {
   "cell_type": "markdown",
   "id": "c23b7923-3edd-420a-9387-cc1234164fed",
   "metadata": {},
   "source": [
    "# 図のクロスリファレンス\n",
    "ここでは matplotlib.rb で生成される図に対するクロスリファレンスが、\n",
    "Quarto を用いることで自動的に得られることを示します。"
   ]
  },
  {
   "cell_type": "code",
   "execution_count": 1,
   "id": "9e19d5bc-262b-4912-ace1-9477fbce05c6",
   "metadata": {},
   "outputs": [
    {
     "data": {
      "text/plain": [
       "[:inline, \"module://matplotlib_rb.backend_inline\"]"
      ]
     },
     "execution_count": 1,
     "metadata": {},
     "output_type": "execute_result"
    }
   ],
   "source": [
    "require 'matplotlib/iruby'\n",
    "Matplotlib::IRuby.activate"
   ]
  },
  {
   "cell_type": "code",
   "execution_count": 22,
   "id": "39842a6f-2419-47d3-a405-f2a54f83752c",
   "metadata": {},
   "outputs": [
    {
     "data": {
      "image/png": "[encoded data removed]",
      "text/plain": [
       "<Figure size 640x480 with 1 Axes>"
      ]
     },
     "metadata": {},
     "output_type": "display_data"
    }
   ],
   "source": [
    "#| label: fig-plot\n",
    "#| fig-cap: \"matplot.rbを用いたプロット\"\n",
    "\n",
    "require 'matplotlib/pyplot'\n",
    "plt = Matplotlib::Pyplot\n",
    "\n",
    "xs = [*1..100].map {|x| (x - 50) * Math::PI / 100.0 }\n",
    "ys = xs.map {|x| Math.sin(x) }\n",
    "\n",
    "plt.plot(xs, ys)\n",
    "plt.show()"
   ]
  },
  {
   "cell_type": "markdown",
   "id": "e232bb68-ac82-4501-ad14-cc8ea87a0696",
   "metadata": {},
   "source": [
    "例えば、 [図 @fig-plot] を参照。"
   ]
  },
  {
   "cell_type": "code",
   "execution_count": null,
   "id": "d18f7e2e-31c9-45e2-a99f-3f4b037c1af4",
   "metadata": {},
   "outputs": [],
   "source": []
  },
  {
   "cell_type": "markdown",
   "id": "da230a7f-6885-4619-9c41-e6c40f49aa68",
   "metadata": {},
   "source": [
    "---"
   ]
  },
  {
   "cell_type": "code",
   "execution_count": 19,
   "id": "5223734c-9b67-4331-b3de-1a83edea40dc",
   "metadata": {},
   "outputs": [
    {
     "data": {
      "text/markdown": [
       "| TH1 | TH2 |\n",
       "| ---- | ---- |\n",
       "| TD | TD |"
      ],
      "text/plain": [
       "\"| TH1 | TH2 |\\n| ---- | ---- |\\n| TD | TD |\""
      ]
     },
     "execution_count": 19,
     "metadata": {},
     "output_type": "execute_result"
    }
   ],
   "source": [
    "#| label: tbl-planets\n",
    "#| tbl-cap: Planets for 日本語\n",
    "\n",
    "IRuby.convert(\"| TH1 | TH2 |\\n| ---- | ---- |\\n| TD | TD |\", mime: \"text/markdown\")"
   ]
  },
  {
   "cell_type": "markdown",
   "id": "dfc730ea-8eb9-4a22-9f2d-50eff4592bc4",
   "metadata": {},
   "source": [
    "See @tbl-planets ."
   ]
  },
  {
   "cell_type": "code",
   "execution_count": 53,
   "id": "41717529-5bfa-4c70-aac1-3d4ecde9754c",
   "metadata": {},
   "outputs": [
    {
     "data": {
      "text/markdown": [
       "| unnamed1 | name           | height | mass  | hair_color | skin_color  | eye_color | birth_year | sex    | gender    | homeworld | species |\n",
       "|----------|----------------|--------|-------|------------|-------------|-----------|------------|--------|-----------|-----------|---------|\n",
       "| 1        | Luke Skywalker | 172    | 77.0  | blond      | fair        | blue      | 19.0       | male   | masculine | Tatooine  | Human   |\n",
       "| 2        | C-3PO          | 167    | 75.0  | NA         | gold        | yellow    | 112.0      | none   | masculine | Tatooine  | Droid   |\n",
       "| 3        | R2-D2          | 96     | 32.0  | NA         | white, blue | red       | 33.0       | none   | masculine | Naboo     | Droid   |\n",
       "| 4        | Darth Vader    | 202    | 136.0 | none       | white       | yellow    | 41.9       | male   | masculine | Tatooine  | Human   |\n",
       "| 5        | Leia Organa    | 150    | 49.0  | brown      | light       | brown     | 19.0       | female | feminine  | Alderaan  | Human   |"
      ],
      "text/plain": [
       "\"| unnamed1 | name           | height | mass  | hair_color | skin_color  | eye_color | birth_year | sex    | gender    | homeworld | species |\\n|----------|----------------|--------|-------|------------|-------------|-----------|------------|--------|-----------|-----------|---------|\\n| 1        | Luke Skywalker | 172    | 77.0  | blond      | fair        | blue      | 19.0       | male   | masculine | Tatooine  | Human   |\\n| 2        | C-3PO          | 167    | 75.0  | NA         | gold        | yellow    | 112.0      | none   | masculine | Tatooine  | Droid   |\\n| 3        | R2-D2          | 96     | 32.0  | NA         | white, blue | red       | 33.0       | none   | masculine | Naboo     | Droid   |\\n| 4        | Darth Vader    | 202    | 136.0 | none       | white       | yellow    | 41.9       | male   | masculine | Tatooine  | Human   |\\n| 5        | Leia Organa    | 150    | 49.0  | brown      | light       | brown     | 19.0       | female | feminine  | Alderaan  | Human   |\""
      ]
     },
     "execution_count": 53,
     "metadata": {},
     "output_type": "execute_result"
    },
    {
     "ename": "Interrupt",
     "evalue": "",
     "output_type": "error",
     "traceback": [
      "\u001b[31mInterrupt\u001b[0m: ",
      "/home/jovyan/.local/share/gem/ruby/3.1.0/gems/ffi-rzmq-2.0.7/lib/ffi-rzmq/socket.rb:584:in `zmq_recvmsg'",
      "/home/jovyan/.local/share/gem/ruby/3.1.0/gems/ffi-rzmq-2.0.7/lib/ffi-rzmq/socket.rb:584:in `__recvmsg__'",
      "/home/jovyan/.local/share/gem/ruby/3.1.0/gems/ffi-rzmq-2.0.7/lib/ffi-rzmq/socket.rb:321:in `recvmsg'",
      "/home/jovyan/.local/share/gem/ruby/3.1.0/gems/ffi-rzmq-2.0.7/lib/ffi-rzmq/socket.rb:342:in `recv_string'",
      "/home/jovyan/.local/share/gem/ruby/3.1.0/gems/iruby-0.7.4/lib/iruby/session_adapter/ffirzmq_adapter.rb:19:in `recv'",
      "/home/jovyan/.local/share/gem/ruby/3.1.0/gems/iruby-0.7.4/lib/iruby/session.rb:91:in `recv'",
      "/home/jovyan/.local/share/gem/ruby/3.1.0/gems/iruby-0.7.4/lib/iruby/kernel.rb:133:in `dispatch'",
      "/home/jovyan/.local/share/gem/ruby/3.1.0/gems/iruby-0.7.4/lib/iruby/kernel.rb:127:in `run'",
      "/home/jovyan/.local/share/gem/ruby/3.1.0/gems/iruby-0.7.4/lib/iruby/command.rb:106:in `run_kernel'",
      "/home/jovyan/.local/share/gem/ruby/3.1.0/gems/iruby-0.7.4/lib/iruby/command.rb:37:in `run'",
      "/home/jovyan/.local/share/gem/ruby/3.1.0/gems/iruby-0.7.4/bin/iruby:5:in `<top (required)>'",
      "/home/jovyan/.local/share/gem/ruby/3.1.0/bin/iruby:25:in `load'",
      "/home/jovyan/.local/share/gem/ruby/3.1.0/bin/iruby:25:in `<main>'"
     ]
    }
   ],
   "source": [
    "#| label: tbl-starwars\n",
    "#| tbl-cap: StarWars table for 日本\n",
    "\n",
    "require 'terminal-table'\n",
    "require 'red_amber'\n",
    "include RedAmber\n",
    "uri = URI('https://vincentarelbundock.github.io/Rdatasets/csv/dplyr/starwars.csv')\n",
    "starwars = DataFrame.load(uri)\n",
    "table = Terminal::Table.new do |t|\n",
    "  t.headings = starwars.keys.map { |x| x.to_s }\n",
    "  t.rows = starwars.head.to_a\n",
    "  t.style = { :border_top => false, :border_bottom => false }\n",
    "end\n",
    "table.style = { :border => :markdown}\n",
    "\n",
    "IRuby.convert(table.render, mime: \"text/markdown\")"
   ]
  },
  {
   "cell_type": "markdown",
   "id": "4feb4b8a-40f0-4977-8f6b-4d0862e23939",
   "metadata": {},
   "source": [
    "スターウォーズの研究は [表 @tbl-starwars] を参照。"
   ]
  },
  {
   "cell_type": "code",
   "execution_count": null,
   "id": "a5551c0b-e1b3-42db-b499-64d5a4151f9d",
   "metadata": {},
   "outputs": [],
   "source": []
  }
 ],
 "metadata": {
  "kernelspec": {
   "display_name": "Ruby 3.1.3",
   "language": "ruby",
   "name": "ruby"
  },
  "language_info": {
   "file_extension": ".rb",
   "mimetype": "application/x-ruby",
   "name": "ruby",
   "version": "3.1.3"
  }
 },
 "nbformat": 4,
 "nbformat_minor": 5
}
