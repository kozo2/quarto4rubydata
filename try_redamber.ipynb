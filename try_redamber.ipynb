{
 "cells": [
  {
   "cell_type": "raw",
   "id": "32dda456-26da-4cad-a9d2-42cfa78707bd",
   "metadata": {},
   "source": [
    "---\n",
    "title: \"redamber\"\n",
    "format: \n",
    "  html:\n",
    "    toc: true\n",
    "    css: table4ruby.css\n",
    "    code-fold: true\n",
    "jupyter: ruby\n",
    "---"
   ]
  },
  {
   "cell_type": "code",
   "execution_count": 1,
   "id": "3183a500-9151-4a23-9db9-164392894106",
   "metadata": {},
   "outputs": [
    {
     "data": {
      "text/plain": [
       "3"
      ]
     },
     "execution_count": 1,
     "metadata": {},
     "output_type": "execute_result"
    }
   ],
   "source": [
    "1+2"
   ]
  },
  {
   "cell_type": "markdown",
   "id": "90c839db-b369-4030-966c-1fc9f32180b9",
   "metadata": {},
   "source": [
    "# 目次1\n",
    "## 目次1-1\n",
    "## 目次1-2"
   ]
  },
  {
   "cell_type": "code",
   "execution_count": 2,
   "id": "7cd22a37-2ad7-4b73-abb3-905aff3e5152",
   "metadata": {},
   "outputs": [
    {
     "data": {
      "text/plain": [
       "true"
      ]
     },
     "execution_count": 2,
     "metadata": {},
     "output_type": "execute_result"
    }
   ],
   "source": [
    "require 'red_amber'"
   ]
  },
  {
   "cell_type": "code",
   "execution_count": 3,
   "id": "df67f329-6d94-4f52-b5e2-1cb279b506f0",
   "metadata": {},
   "outputs": [
    {
     "data": {
      "text/plain": [
       "#<Module:0x00007f28472faed8>"
      ]
     },
     "execution_count": 3,
     "metadata": {},
     "output_type": "execute_result"
    }
   ],
   "source": [
    "include RedAmber"
   ]
  },
  {
   "cell_type": "code",
   "execution_count": 4,
   "id": "2f8c09e5-ee4e-401b-87d4-c798e33f6f98",
   "metadata": {},
   "outputs": [
    {
     "data": {
      "text/plain": [
       "{:RedAmber=>\"0.3.0\", :Arrow=>\"10.0.0\"}"
      ]
     },
     "execution_count": 4,
     "metadata": {},
     "output_type": "execute_result"
    }
   ],
   "source": [
    "{RedAmber: VERSION, Arrow: Arrow::VERSION}"
   ]
  },
  {
   "cell_type": "code",
   "execution_count": 5,
   "id": "6d4c73ee-1f8a-41d5-a630-653c13f3ceb2",
   "metadata": {},
   "outputs": [
    {
     "data": {
      "text/html": [
       "RedAmber::DataFrame <3 x 2 vectors> <table><tr><th>x</th><th>y</th></tr><tr><td>1</td><td>A</td></tr><tr><td>2</td><td>B</td></tr><tr><td>3</td><td>C</td></tr></table>"
      ],
      "text/plain": [
       "#<RedAmber::DataFrame : 3 x 2 Vectors, 0x000000000000f0c8>\n",
       "        x y\n",
       "  <uint8> <string>\n",
       "0       1 A\n",
       "1       2 B\n",
       "2       3 C\n"
      ]
     },
     "execution_count": 5,
     "metadata": {},
     "output_type": "execute_result"
    }
   ],
   "source": [
    "DataFrame.new(x: [1, 2, 3], y: %w[A B C])"
   ]
  },
  {
   "cell_type": "markdown",
   "id": "8d420e81-fbbc-4da6-85a8-8b948bba3658",
   "metadata": {},
   "source": [
    "# 目次2\n",
    "## 目次2-1\n",
    "## 目次2-2"
   ]
  },
  {
   "cell_type": "code",
   "execution_count": 6,
   "id": "a22afe89-14cb-448f-83e3-f78a2f816f66",
   "metadata": {},
   "outputs": [
    {
     "data": {
      "text/html": [
       "RedAmber::DataFrame <3 x 2 vectors> <table><tr><th>x</th><th>y</th></tr><tr><td>1</td><td>A</td></tr><tr><td>2</td><td>B</td></tr><tr><td>3</td><td>C</td></tr></table>"
      ],
      "text/plain": [
       "#<RedAmber::DataFrame : 3 x 2 Vectors, 0x000000000000f0dc>\n",
       "        x y\n",
       "  <uint8> <string>\n",
       "0       1 A\n",
       "1       2 B\n",
       "2       3 C\n"
      ]
     },
     "execution_count": 6,
     "metadata": {},
     "output_type": "execute_result"
    }
   ],
   "source": [
    "DataFrame.new({ x: :uint8, y: :string }, [[1, 'A'], [2, 'B'], [3, 'C']])"
   ]
  },
  {
   "cell_type": "code",
   "execution_count": 7,
   "id": "ce534492-d1ab-40fc-8e28-02dfb21ab00b",
   "metadata": {},
   "outputs": [
    {
     "data": {
      "text/html": [
       "RedAmber::DataFrame <3 x 2 vectors> <table><tr><th>x</th><th>y</th></tr><tr><td>1</td><td>A</td></tr><tr><td>2</td><td>B</td></tr><tr><td>3</td><td>C</td></tr></table>"
      ],
      "text/plain": [
       "#<RedAmber::DataFrame : 3 x 2 Vectors, 0x000000000000f0f0>\n",
       "        x y\n",
       "  <uint8> <string>\n",
       "0       1 A\n",
       "1       2 B\n",
       "2       3 C\n"
      ]
     },
     "execution_count": 7,
     "metadata": {},
     "output_type": "execute_result"
    }
   ],
   "source": [
    "table = Arrow::Table.new(x: [1, 2, 3], y: %w[A B C])\n",
    "DataFrame.new(table)"
   ]
  },
  {
   "cell_type": "code",
   "execution_count": 9,
   "id": "2d0c1d87-4df8-45e0-996c-86fe6c3e33e2",
   "metadata": {},
   "outputs": [
    {
     "data": {
      "text/html": [
       "RedAmber::DataFrame <344 x 8 vectors> <table><tr><th>species</th><th>island</th><th>bill_length_mm</th><th>bill_depth_mm</th><th>flipper_length_mm</th><th>body_mass_g</th><th>sex</th><th>year</th></tr><tr><td>Adelie</td><td>Torgersen</td><td>39.1</td><td>18.7</td><td>181</td><td>3750</td><td>male</td><td>2007</td></tr><tr><td>Adelie</td><td>Torgersen</td><td>39.5</td><td>17.4</td><td>186</td><td>3800</td><td>female</td><td>2007</td></tr><tr><td>Adelie</td><td>Torgersen</td><td>40.3</td><td>18</td><td>195</td><td>3250</td><td>female</td><td>2007</td></tr><tr><td>Adelie</td><td>Torgersen</td><td><i>(nil)</i></td><td><i>(nil)</i></td><td><i>(nil)</i></td><td><i>(nil)</i></td><td><i>(nil)</i></td><td>2007</td></tr><tr><td colspan='8'>&#8942;</td></tr><tr><td>Gentoo</td><td>Biscoe</td><td>50.4</td><td>15.7</td><td>222</td><td>5750</td><td>male</td><td>2009</td></tr><tr><td>Gentoo</td><td>Biscoe</td><td>45.2</td><td>14.8</td><td>212</td><td>5200</td><td>female</td><td>2009</td></tr><tr><td>Gentoo</td><td>Biscoe</td><td>49.9</td><td>16.1</td><td>213</td><td>5400</td><td>male</td><td>2009</td></tr></table>"
      ],
      "text/plain": [
       "#<RedAmber::DataFrame : 344 x 8 Vectors, 0x000000000000f104>\n",
       "    species  island    bill_length_mm bill_depth_mm flipper_length_mm ...     year\n",
       "    <string> <string>        <double>      <double>           <uint8> ... <uint16>\n",
       "  0 Adelie   Torgersen           39.1          18.7               181 ...     2007\n",
       "  1 Adelie   Torgersen           39.5          17.4               186 ...     2007\n",
       "  2 Adelie   Torgersen           40.3          18.0               195 ...     2007\n",
       "  3 Adelie   Torgersen          (nil)         (nil)             (nil) ...     2007\n",
       "  4 Adelie   Torgersen           36.7          19.3               193 ...     2007\n",
       "  : :        :                      :             :                 : ...        :\n",
       "341 Gentoo   Biscoe              50.4          15.7               222 ...     2009\n",
       "342 Gentoo   Biscoe              45.2          14.8               212 ...     2009\n",
       "343 Gentoo   Biscoe              49.9          16.1               213 ...     2009\n"
      ]
     },
     "execution_count": 9,
     "metadata": {},
     "output_type": "execute_result"
    }
   ],
   "source": [
    "require 'datasets-arrow'\n",
    "dataset = Datasets::Penguins.new\n",
    "penguins = DataFrame.new(dataset)"
   ]
  },
  {
   "cell_type": "code",
   "execution_count": 10,
   "id": "bc8b96b1-772c-4dad-a667-ca40166be403",
   "metadata": {},
   "outputs": [
    {
     "data": {
      "text/html": [
       "RedAmber::DataFrame <32 x 11 vectors> <table><tr><th>mpg</th><th>cyl</th><th>disp</th><th>hp</th><th>drat</th><th>wt</th><th>qsec</th><th>vs</th><th>am</th><th>gear</th><th>carb</th></tr><tr><td>21</td><td>6</td><td>160</td><td>110</td><td>3.9</td><td>2.62</td><td>16.46</td><td>0</td><td>1</td><td>4</td><td>4</td></tr><tr><td>21</td><td>6</td><td>160</td><td>110</td><td>3.9</td><td>2.875</td><td>17.02</td><td>0</td><td>1</td><td>4</td><td>4</td></tr><tr><td>22.8</td><td>4</td><td>108</td><td>93</td><td>3.85</td><td>2.32</td><td>18.61</td><td>1</td><td>1</td><td>4</td><td>1</td></tr><tr><td>21.4</td><td>6</td><td>258</td><td>110</td><td>3.08</td><td>3.215</td><td>19.44</td><td>1</td><td>0</td><td>3</td><td>1</td></tr><tr><td colspan='11'>&#8942;</td></tr><tr><td>19.7</td><td>6</td><td>145</td><td>175</td><td>3.62</td><td>2.77</td><td>15.5</td><td>0</td><td>1</td><td>5</td><td>6</td></tr><tr><td>15</td><td>8</td><td>301</td><td>335</td><td>3.54</td><td>3.57</td><td>14.6</td><td>0</td><td>1</td><td>5</td><td>8</td></tr><tr><td>21.4</td><td>4</td><td>121</td><td>109</td><td>4.11</td><td>2.78</td><td>18.6</td><td>1</td><td>1</td><td>4</td><td>2</td></tr></table>"
      ],
      "text/plain": [
       "#<RedAmber::DataFrame : 32 x 11 Vectors, 0x000000000000f118>\n",
       "        mpg     cyl     disp       hp     drat       wt     qsec      vs      am ...    carb\n",
       "   <double> <uint8> <double> <uint16> <double> <double> <double> <uint8> <uint8> ... <uint8>\n",
       " 0     21.0       6    160.0      110      3.9     2.62    16.46       0       1 ...       4\n",
       " 1     21.0       6    160.0      110      3.9     2.88    17.02       0       1 ...       4\n",
       " 2     22.8       4    108.0       93     3.85     2.32    18.61       1       1 ...       1\n",
       " 3     21.4       6    258.0      110     3.08     3.22    19.44       1       0 ...       1\n",
       " 4     18.7       8    360.0      175     3.15     3.44    17.02       0       0 ...       2\n",
       " :        :       :        :        :        :        :        :       :       : ...       :\n",
       "29     19.7       6    145.0      175     3.62     2.77     15.5       0       1 ...       6\n",
       "30     15.0       8    301.0      335     3.54     3.57     14.6       0       1 ...       8\n",
       "31     21.4       4    121.0      109     4.11     2.78     18.6       1       1 ...       2\n"
      ]
     },
     "execution_count": 10,
     "metadata": {},
     "output_type": "execute_result"
    }
   ],
   "source": [
    "dataset = Datasets::Rdatasets.new('datasets', 'mtcars')\n",
    "mtcars = DataFrame.new(dataset)"
   ]
  },
  {
   "cell_type": "code",
   "execution_count": 11,
   "id": "12e9be8c-63e3-46a0-aeff-08f867c08f42",
   "metadata": {},
   "outputs": [
    {
     "data": {
      "text/html": [
       "RedAmber::DataFrame <3 x 1 vector> <table><tr><th>numo</th></tr><tr><td>0.0617545</td></tr><tr><td>0.373067</td></tr><tr><td>0.794815</td></tr></table>"
      ],
      "text/plain": [
       "#<RedAmber::DataFrame : 3 x 1 Vector, 0x000000000000f244>\n",
       "      numo\n",
       "  <double>\n",
       "0     0.06\n",
       "1     0.37\n",
       "2     0.79\n"
      ]
     },
     "execution_count": 11,
     "metadata": {},
     "output_type": "execute_result"
    }
   ],
   "source": [
    "require 'arrow-numo-narray'\n",
    "\n",
    "DataFrame.new(numo: Numo::DFloat.new(3).rand)"
   ]
  },
  {
   "cell_type": "code",
   "execution_count": 12,
   "id": "914c1aec-1554-4239-900b-e78b695d4bb1",
   "metadata": {},
   "outputs": [
    {
     "data": {
      "text/html": [
       "RedAmber::DataFrame <344 x 7 vectors> <table><tr><th>species</th><th>island</th><th>bill_length_mm</th><th>bill_depth_mm</th><th>flipper_length_mm</th><th>body_mass_g</th><th>sex</th></tr><tr><td>Adelie</td><td>Torgersen</td><td>39.1</td><td>18.7</td><td>181</td><td>3750</td><td>MALE</td></tr><tr><td>Adelie</td><td>Torgersen</td><td>39.5</td><td>17.4</td><td>186</td><td>3800</td><td>FEMALE</td></tr><tr><td>Adelie</td><td>Torgersen</td><td>40.3</td><td>18</td><td>195</td><td>3250</td><td>FEMALE</td></tr><tr><td>Adelie</td><td>Torgersen</td><td><i>(nil)</i></td><td><i>(nil)</i></td><td><i>(nil)</i></td><td><i>(nil)</i></td><td>\"\"</td></tr><tr><td colspan='7'>&#8942;</td></tr><tr><td>Gentoo</td><td>Biscoe</td><td>50.4</td><td>15.7</td><td>222</td><td>5750</td><td>MALE</td></tr><tr><td>Gentoo</td><td>Biscoe</td><td>45.2</td><td>14.8</td><td>212</td><td>5200</td><td>FEMALE</td></tr><tr><td>Gentoo</td><td>Biscoe</td><td>49.9</td><td>16.1</td><td>213</td><td>5400</td><td>MALE</td></tr></table>"
      ],
      "text/plain": [
       "#<RedAmber::DataFrame : 344 x 7 Vectors, 0x000000000000f258>\n",
       "    species  island    bill_length_mm bill_depth_mm flipper_length_mm ... sex\n",
       "    <string> <string>        <double>      <double>           <int64> ... <string>\n",
       "  0 Adelie   Torgersen           39.1          18.7               181 ... MALE\n",
       "  1 Adelie   Torgersen           39.5          17.4               186 ... FEMALE\n",
       "  2 Adelie   Torgersen           40.3          18.0               195 ... FEMALE\n",
       "  3 Adelie   Torgersen          (nil)         (nil)             (nil) ...\n",
       "  4 Adelie   Torgersen           36.7          19.3               193 ... FEMALE\n",
       "  : :        :                      :             :                 : ... :\n",
       "341 Gentoo   Biscoe              50.4          15.7               222 ... MALE\n",
       "342 Gentoo   Biscoe              45.2          14.8               212 ... FEMALE\n",
       "343 Gentoo   Biscoe              49.9          16.1               213 ... MALE\n"
      ]
     },
     "execution_count": 12,
     "metadata": {},
     "output_type": "execute_result"
    }
   ],
   "source": [
    "uri = URI(\"https://raw.githubusercontent.com/mwaskom/seaborn-data/master/penguins.csv\")\n",
    "DataFrame.load(uri)"
   ]
  },
  {
   "cell_type": "code",
   "execution_count": 13,
   "id": "e918ac33-22f9-4b84-ae51-0760cee7e28c",
   "metadata": {},
   "outputs": [
    {
     "data": {
      "text/html": [
       "RedAmber::DataFrame <5 x 4 vectors> <table><tr><th>x</th><th>y</th><th>s</th><th>b</th></tr><tr><td>1</td><td>1</td><td>A</td><td><i>(true)</i></td></tr><tr><td>2</td><td>2</td><td>B</td><td><i>(false)</i></td></tr><tr><td>3</td><td>3</td><td>C</td><td><i>(true)</i></td></tr><tr><td>4</td><td>NaN</td><td>D</td><td><i>(false)</i></td></tr><tr><td>5</td><td><i>(nil)</i></td><td><i>(nil)</i></td><td><i>(nil)</i></td></tr></table>"
      ],
      "text/plain": [
       "#<RedAmber::DataFrame : 5 x 4 Vectors, 0x000000000000f26c>\n",
       "        x        y s        b\n",
       "  <uint8> <double> <string> <boolean>\n",
       "0       1      1.0 A        true\n",
       "1       2      2.0 B        false\n",
       "2       3      3.0 C        true\n",
       "3       4      NaN D        false\n",
       "4       5    (nil) (nil)    (nil)\n"
      ]
     },
     "execution_count": 13,
     "metadata": {},
     "output_type": "execute_result"
    }
   ],
   "source": [
    "df = DataFrame.new(\n",
    "  x: [1, 2, 3, 4, 5],\n",
    "  y: [1, 2, 3, 0/0.0, nil],\n",
    "  s: %w[A B C D] << nil,\n",
    "  b: [true, false, true, false, nil]\n",
    ")"
   ]
  },
  {
   "cell_type": "code",
   "execution_count": 14,
   "id": "8b6c3932-309e-4bff-b4c8-86959ef1e50c",
   "metadata": {},
   "outputs": [
    {
     "data": {
      "text/plain": [
       "#<Arrow::Table:0x7f2845162af0 ptr=0x5572e94c4eb0>\n",
       "\tx\t         y\ts\tb\n",
       "0\t1\t  1.000000\tA\ttrue\n",
       "1\t2\t  2.000000\tB\tfalse\n",
       "2\t3\t  3.000000\tC\ttrue\n",
       "3\t4\t       NaN\tD\tfalse\n",
       "4\t5\t    (null)\t(null)\t(null)\n"
      ]
     },
     "execution_count": 14,
     "metadata": {},
     "output_type": "execute_result"
    }
   ],
   "source": [
    "df.table"
   ]
  },
  {
   "cell_type": "code",
   "execution_count": null,
   "id": "07fff9bf-a201-416c-8a9d-717b7098699a",
   "metadata": {},
   "outputs": [],
   "source": []
  }
 ],
 "metadata": {
  "kernelspec": {
   "display_name": "Ruby 3.1.3",
   "language": "ruby",
   "name": "ruby"
  },
  "language_info": {
   "file_extension": ".rb",
   "mimetype": "application/x-ruby",
   "name": "ruby",
   "version": "3.1.3"
  }
 },
 "nbformat": 4,
 "nbformat_minor": 5
}
