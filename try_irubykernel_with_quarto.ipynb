{
 "cells": [
  {
   "cell_type": "raw",
   "id": "add5f2e1-8add-4f86-8ab7-834d58f2ece2",
   "metadata": {},
   "source": [
    "---\n",
    "title: \"Quarto で iruby カーネルを試用します\"\n",
    "format: \n",
    "  pdf:\n",
    "    toc: true\n",
    "    number-sections: true\n",
    "    documentclass: bxjsarticle\n",
    "    classoption:\n",
    "      - pandoc\n",
    "      - ja=standard\n",
    "      - jafont=haranoaji\n",
    "pdf-engine: lualatex\n",
    "jupyter: ruby\n",
    "---"
   ]
  },
  {
   "cell_type": "markdown",
   "id": "2c649e34-c484-48fe-b076-aad34a597c57",
   "metadata": {},
   "source": [
    "## 日本語のテスト\n",
    "\n",
    "まず 日本語を含む Ruby セルの出力テストを行います。"
   ]
  },
  {
   "cell_type": "code",
   "execution_count": 16,
   "id": "eafab719-ca02-4982-8a8c-636f2ac4dfd9",
   "metadata": {},
   "outputs": [
    {
     "name": "stdout",
     "output_type": "stream",
     "text": [
      "Hello るびー！\n"
     ]
    }
   ],
   "source": [
    "#| label: fig-simple\n",
    "#| fig-cap: Simple Plot\n",
    "\n",
    "puts \"Hello るびー！\""
   ]
  },
  {
   "cell_type": "markdown",
   "id": "9ecdad3d-034d-4437-9e98-474033d24882",
   "metadata": {},
   "source": [
    "## Quarto を用いることで、この日本語を含む ipynb を問題無く pdf に変換できます！\n",
    "\n",
    "JupyterLab の PDF への export 機能では日本語は出力されない難があります。\n",
    "\n",
    "ですが、Quarto のおかげでこの ipynb をその難が無く PDF 出力できます！\n",
    "\n",
    "1. JupyterLab のメニューバー -> File -> New -> Terminal と辿り、Terminal を立ち上げまず。\n",
    "2. 次のコマンドを実行します。 `quarto render try_irubykernel_with_quarto.ipynb`\n",
    "3. JupyterLab の左のサイドバーの file browser をリフレッシュします。\n",
    "4. try_irubykernel_with_quarto.pdf ができているはずです。それをダブルクリックします。\n",
    "\n",
    "### Quarto には「日本語出力の難が無い」こと以外にも、便利な点があります！\n",
    "\n",
    "この ipynb の先頭のセルは Quarto 用の YAML ヘッダーです。\n",
    "そこに\n",
    "```\n",
    "toc: true\n",
    "```\n",
    "を付けると `quarto render` コマンドの出力に目次が自動で加えられます。\n",
    "\n",
    "また\n",
    "```\n",
    "number-sections: true\n",
    "```\n",
    "を付けると `quarto render` コマンドの出力にセクション番号が自動で付くようになります。\n"
   ]
  },
  {
   "cell_type": "markdown",
   "id": "12156aa6-f53f-4062-9825-2b8c465f6ead",
   "metadata": {},
   "source": [
    "## クロスリファレンス\n",
    "\n",
    "ここでは、Quarto がクロスリファレンス(科学技術出版で必須となるもの)の作成を容易にしてくれることを示します。\n",
    "\n",
    "@sec-equation の @eq-stddev を見てください。\n",
    "\n",
    "また @fig-simple を見てください。\n",
    "\n",
    "上記の PDF 出力はどうなっているでしょうか？\n",
    "\n",
    "「第何セクション」の「第何番目の数式」か、が自動的に参照付けされています！\n",
    "\n",
    "これは科学技術出版に非常に便利な機能です！"
   ]
  },
  {
   "cell_type": "markdown",
   "id": "e5394d1d-347a-4a32-9dc9-398642b09e23",
   "metadata": {},
   "source": [
    "## 数式セクション {#sec-equation}\n",
    "\n",
    "$$\n",
    "s = \\sqrt{\\frac{1}{N-1} \\sum_{i=1}^N (x_i - \\overline{x})^2}\n",
    "$$ {#eq-stddev}"
   ]
  },
  {
   "cell_type": "code",
   "execution_count": null,
   "id": "801d7b70-e9c9-4a4c-a4eb-a8cc0e6e2cb1",
   "metadata": {},
   "outputs": [],
   "source": []
  }
 ],
 "metadata": {
  "kernelspec": {
   "display_name": "Ruby 3.1.3",
   "language": "ruby",
   "name": "ruby"
  },
  "language_info": {
   "file_extension": ".rb",
   "mimetype": "application/x-ruby",
   "name": "ruby",
   "version": "3.1.3"
  }
 },
 "nbformat": 4,
 "nbformat_minor": 5
}
