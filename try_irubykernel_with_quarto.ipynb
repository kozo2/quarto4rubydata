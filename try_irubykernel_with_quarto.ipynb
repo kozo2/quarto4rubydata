{
 "cells": [
  {
   "cell_type": "raw",
   "id": "add5f2e1-8add-4f86-8ab7-834d58f2ece2",
   "metadata": {},
   "source": [
    "---\n",
    "title: \"Quarto で iruby カーネルを試用します\"\n",
    "format: \n",
    "  html:\n",
    "    code-fold: true\n",
    "jupyter: ruby\n",
    "---"
   ]
  },
  {
   "cell_type": "markdown",
   "id": "2c649e34-c484-48fe-b076-aad34a597c57",
   "metadata": {},
   "source": [
    "## 日本語のテスト\n",
    "\n",
    "漢字のテスト"
   ]
  },
  {
   "cell_type": "code",
   "execution_count": 1,
   "id": "eafab719-ca02-4982-8a8c-636f2ac4dfd9",
   "metadata": {},
   "outputs": [
    {
     "name": "stdout",
     "output_type": "stream",
     "text": [
      "Hello World\n"
     ]
    }
   ],
   "source": [
    "puts \"Hello World\""
   ]
  },
  {
   "cell_type": "markdown",
   "id": "9ecdad3d-034d-4437-9e98-474033d24882",
   "metadata": {},
   "source": [
    "## Quarto でこの ipynb を html にします\n",
    "1. JupyterLab のメニューバー -> File -> New -> Terminal と辿り、Terminal を立ち上げまず。\n",
    "2. 次のコマンドを実行します。 `quarto render try_irubykernel_with_quarto.ipynb --to html`\n",
    "3. JupyterLab の左のサイドバーの file browser をリフレッシュします。\n",
    "4. try_irubykernel_with_quarto.html ができているはずです。それをダブルクリックします。"
   ]
  },
  {
   "cell_type": "markdown",
   "id": "cc952635-3c24-4138-b96c-676b5daf1c08",
   "metadata": {},
   "source": [
    "## Quarto でこの ipynb を qmd にします\n",
    "1. JupyterLab のメニューバー -> File -> New -> Terminal と辿り、Terminal を立ち上げまず。\n",
    "2. 次のコマンドを実行します。 `quarto convert try_irubykernel_with_quarto.ipynb`\n",
    "3. JupyterLab の左のサイドバーの file browser をリフレッシュします。\n",
    "4. try_irubykernel_with_quarto.qmd ができているはずです。それをダブルクリックします。"
   ]
  },
  {
   "cell_type": "code",
   "execution_count": null,
   "id": "0accfe34-7e5d-4b54-84e5-d0f5530e8c87",
   "metadata": {},
   "outputs": [],
   "source": []
  }
 ],
 "metadata": {
  "kernelspec": {
   "display_name": "Ruby 3.1.2",
   "language": "ruby",
   "name": "ruby"
  },
  "language_info": {
   "file_extension": ".rb",
   "mimetype": "application/x-ruby",
   "name": "ruby",
   "version": "3.1.2"
  }
 },
 "nbformat": 4,
 "nbformat_minor": 5
}
