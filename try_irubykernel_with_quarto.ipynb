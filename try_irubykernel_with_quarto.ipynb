{
 "cells": [
  {
   "cell_type": "raw",
   "id": "add5f2e1-8add-4f86-8ab7-834d58f2ece2",
   "metadata": {},
   "source": [
    "---\n",
    "title: \"Quarto で iruby カーネルを試用します\"\n",
    "format: \n",
    "  pdf:\n",
    "    toc: true\n",
    "    number-sections: true\n",
    "    documentclass: bxjsarticle\n",
    "    classoption:\n",
    "      - pandoc\n",
    "      - ja=standard\n",
    "      - jafont=haranoaji\n",
    "pdf-engine: lualatex\n",
    "jupyter: ruby\n",
    "---"
   ]
  },
  {
   "cell_type": "markdown",
   "id": "2c649e34-c484-48fe-b076-aad34a597c57",
   "metadata": {},
   "source": [
    "## 日本語のテスト\n",
    "\n",
    "まず 日本語を含む Ruby セルの出力テストを行います。"
   ]
  },
  {
   "cell_type": "code",
   "execution_count": 1,
   "id": "eafab719-ca02-4982-8a8c-636f2ac4dfd9",
   "metadata": {},
   "outputs": [
    {
     "name": "stdout",
     "output_type": "stream",
     "text": [
      "Hello るびー！\n"
     ]
    }
   ],
   "source": [
    "puts \"Hello るびー！\""
   ]
  },
  {
   "cell_type": "markdown",
   "id": "9ecdad3d-034d-4437-9e98-474033d24882",
   "metadata": {},
   "source": [
    "## Quarto を用いることで、この日本語を含む ipynb を問題無く pdf に変換できます！\n",
    "\n",
    "JupyterLab の PDF への export 機能では日本語は出力されない難があります。\n",
    "\n",
    "ですが、Quarto のおかげでこの ipynb をその難が無く PDF 出力できます！\n",
    "\n",
    "1. JupyterLab のメニューバー -> File -> New -> Terminal と辿り、Terminal を立ち上げまず。\n",
    "2. 次のコマンドを実行します。 `quarto render try_irubykernel_with_quarto.ipynb`\n",
    "3. JupyterLab の左のサイドバーの file browser をリフレッシュします。\n",
    "4. try_irubykernel_with_quarto.pdf ができているはずです。それをダブルクリックします。\n",
    "\n",
    "### Quarto には「日本語出力の難が無い」こと以外にも、便利な点があります！\n",
    "\n",
    "この ipynb の先頭のセルは Quarto 用の YAML ヘッダーです。\n",
    "そこに\n",
    "```\n",
    "toc: true\n",
    "```\n",
    "を付けると `quarto render` コマンドの出力に目次が自動で加えられます。\n",
    "\n",
    "また\n",
    "```\n",
    "number-sections: true\n",
    "```\n",
    "を付けると `quarto render` コマンドの出力にセクション番号が自動で付くようになります。\n"
   ]
  },
  {
   "cell_type": "code",
   "execution_count": null,
   "id": "9b8649de-61c3-4f3b-98ce-3722c22ec877",
   "metadata": {},
   "outputs": [],
   "source": []
  }
 ],
 "metadata": {
  "kernelspec": {
   "display_name": "Ruby 3.1.3",
   "language": "ruby",
   "name": "ruby"
  },
  "language_info": {
   "file_extension": ".rb",
   "mimetype": "application/x-ruby",
   "name": "ruby",
   "version": "3.1.3"
  }
 },
 "nbformat": 4,
 "nbformat_minor": 5
}
